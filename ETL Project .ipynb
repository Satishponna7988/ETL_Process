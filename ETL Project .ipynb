{
 "cells": [
  {
   "cell_type": "markdown",
   "id": "9065b2dc-2c3e-4d03-a069-30cb73093ccc",
   "metadata": {},
   "source": [
    "# Step 1: Extract Data"
   ]
  },
  {
   "cell_type": "code",
   "execution_count": 119,
   "id": "b9c90793-bac6-4d03-9cd8-f686d261b6dd",
   "metadata": {},
   "outputs": [],
   "source": [
    "\n",
    "import csv\n",
    "import os\n",
    "\n",
    "def extract(file_paths):\n",
    "    data = []\n",
    "    for file_path in file_paths:\n",
    "        try:\n",
    "            with open(file_path, mode='r') as file:\n",
    "                reader = csv.DictReader(file)\n",
    "                for row in reader:\n",
    "                    data.append(row)\n",
    "        except FileNotFoundError:\n",
    "            print(f\"Error: File {file_path} not found.\")\n",
    "        except csv.Error as e:\n",
    "            print(f\"Error reading {file_path}: {e}\")\n",
    "    return data\n",
    "        "
   ]
  },
  {
   "cell_type": "markdown",
   "id": "56d350e7-b97a-453e-ad3d-eba8bac32d3f",
   "metadata": {},
   "source": [
    "# Step 2: Transform Data"
   ]
  },
  {
   "cell_type": "code",
   "execution_count": 68,
   "id": "74585720-0169-4abc-9bb9-a74e5c02b1b3",
   "metadata": {},
   "outputs": [],
   "source": [
    "def clean_data(data):\n",
    "    # Fill missing values and correct data types\n",
    "    for row in data:\n",
    "        for key, value in row.items():\n",
    "            if value == '' or value is None:\n",
    "                row[key] = 'Unknown'\n",
    "    return data"
   ]
  },
  {
   "cell_type": "code",
   "execution_count": 116,
   "id": "10aeab87-481d-45d7-af6a-c794f29aa45c",
   "metadata": {},
   "outputs": [],
   "source": [
    "def integrate_data(sales, products, customers, employees):\n",
    "    integrated_data = []\n",
    "    for sale in sales:\n",
    "        product = next((p for p in products if p['product_id'] == sale['product_id']), {})\n",
    "        customer = next((c for c in customers if c['customer_id'] == sale['customer_id']), {})\n",
    "        employee = next((e for e in employees if e['employee_id'] == sale['employee_id']), {})\n",
    "        \n",
    "        integrated_row = {\n",
    "            **sale,\n",
    "            **product,\n",
    "            **customer,\n",
    "            **employee,\n",
    "            'TotalSaleAmount': float(sale.get('Quantity', 0)) * float(product.get('Price', 0)),\n",
    "            'ProfitMargin': float(product.get('ProfitMargin', 0))\n",
    "        }\n",
    "        integrated_data.append(integrated_row)\n",
    "    return integrated_data\n",
    "\n",
    "def create_date_dimension(data):\n",
    "    for row in data:\n",
    "        sale_date = datetime.strptime(row['SaleDate'], '%Y-%m-%d')\n",
    "        row['Month'] = sale_date.month\n",
    "        row['Quarter'] = (sale_date.month - 1) // 3 + 1\n",
    "        row['Year'] = sale_date.year\n",
    "    return data"
   ]
  },
  {
   "cell_type": "markdown",
   "id": "c0cc83c1-b73f-4e6b-9c4d-c869b77a27fb",
   "metadata": {},
   "source": [
    "# Step 3: Data Loading"
   ]
  },
  {
   "cell_type": "code",
   "execution_count": 108,
   "id": "76ba80db-6e1e-4a05-8167-185de57f26d3",
   "metadata": {},
   "outputs": [],
   "source": [
    "def load_data(data, output_path):\n",
    "    try:\n",
    "        keys = data[0].keys()\n",
    "        with open(output_path, 'w', newline='') as file:\n",
    "            writer = csv.DictWriter(file, fieldnames=keys)\n",
    "            writer.writeheader()\n",
    "            writer.writerows(data)\n",
    "        print(f\"Data loading successful to {output_path}\")\n",
    "    except Exception as e:\n",
    "        print(f\"Error in data loading: {e}\")\n"
   ]
  },
  {
   "cell_type": "markdown",
   "id": "266c873f-332b-40fc-a277-fb2d53a05650",
   "metadata": {},
   "source": [
    "# Step 4: Analyze Data"
   ]
  },
  {
   "cell_type": "code",
   "execution_count": 109,
   "id": "787344f1-1f4e-4a74-8ccc-ff4cfba658c2",
   "metadata": {},
   "outputs": [],
   "source": [
    "def analyze_data(data):\n",
    "    category_sales = defaultdict(float)\n",
    "    for row in data:\n",
    "        category_sales[row['Category']] += row['TotalSaleAmount']\n",
    "\n",
    "    print(\"Total sales by product category:\")\n",
    "    for category, total in category_sales.items():\n",
    "        print(f\"{category}: {total}\")"
   ]
  },
  {
   "cell_type": "markdown",
   "id": "6483f180-856f-42db-b561-63663d0d7510",
   "metadata": {},
   "source": [
    "# ETL process"
   ]
  },
  {
   "cell_type": "code",
   "execution_count": 118,
   "id": "d7d3039a-5dfc-49a1-ad75-bf89e42ff035",
   "metadata": {},
   "outputs": [
    {
     "name": "stdout",
     "output_type": "stream",
     "text": [
      "Data extraction successful for Sales.csv\n",
      "Data extraction successful for Product.csv\n",
      "Data extraction successful for Customer.csv\n",
      "Data extraction successful for Employee.csv\n"
     ]
    },
    {
     "ename": "KeyError",
     "evalue": "'employee_id'",
     "output_type": "error",
     "traceback": [
      "\u001b[1;31m---------------------------------------------------------------------------\u001b[0m",
      "\u001b[1;31mKeyError\u001b[0m                                  Traceback (most recent call last)",
      "Cell \u001b[1;32mIn[118], line 27\u001b[0m\n\u001b[0;32m     24\u001b[0m     analyze_data(transformed_data)\n\u001b[0;32m     26\u001b[0m \u001b[38;5;66;03m# Execute the ETL process\u001b[39;00m\n\u001b[1;32m---> 27\u001b[0m etl_process()\n",
      "Cell \u001b[1;32mIn[118], line 17\u001b[0m, in \u001b[0;36metl_process\u001b[1;34m()\u001b[0m\n\u001b[0;32m     14\u001b[0m customers \u001b[38;5;241m=\u001b[39m clean_data(customers)\n\u001b[0;32m     15\u001b[0m employees \u001b[38;5;241m=\u001b[39m clean_data(employees)\n\u001b[1;32m---> 17\u001b[0m integrated_data \u001b[38;5;241m=\u001b[39m integrate_data(sales, products, customers, employees)\n\u001b[0;32m     18\u001b[0m transformed_data \u001b[38;5;241m=\u001b[39m create_date_dimension(integrated_data)\n\u001b[0;32m     20\u001b[0m \u001b[38;5;66;03m# Load\u001b[39;00m\n",
      "Cell \u001b[1;32mIn[116], line 6\u001b[0m, in \u001b[0;36mintegrate_data\u001b[1;34m(sales, products, customers, employees)\u001b[0m\n\u001b[0;32m      4\u001b[0m product \u001b[38;5;241m=\u001b[39m \u001b[38;5;28mnext\u001b[39m((p \u001b[38;5;28;01mfor\u001b[39;00m p \u001b[38;5;129;01min\u001b[39;00m products \u001b[38;5;28;01mif\u001b[39;00m p[\u001b[38;5;124m'\u001b[39m\u001b[38;5;124mproduct_id\u001b[39m\u001b[38;5;124m'\u001b[39m] \u001b[38;5;241m==\u001b[39m sale[\u001b[38;5;124m'\u001b[39m\u001b[38;5;124mproduct_id\u001b[39m\u001b[38;5;124m'\u001b[39m]), {})\n\u001b[0;32m      5\u001b[0m customer \u001b[38;5;241m=\u001b[39m \u001b[38;5;28mnext\u001b[39m((c \u001b[38;5;28;01mfor\u001b[39;00m c \u001b[38;5;129;01min\u001b[39;00m customers \u001b[38;5;28;01mif\u001b[39;00m c[\u001b[38;5;124m'\u001b[39m\u001b[38;5;124mcustomer_id\u001b[39m\u001b[38;5;124m'\u001b[39m] \u001b[38;5;241m==\u001b[39m sale[\u001b[38;5;124m'\u001b[39m\u001b[38;5;124mcustomer_id\u001b[39m\u001b[38;5;124m'\u001b[39m]), {})\n\u001b[1;32m----> 6\u001b[0m employee \u001b[38;5;241m=\u001b[39m \u001b[38;5;28mnext\u001b[39m((e \u001b[38;5;28;01mfor\u001b[39;00m e \u001b[38;5;129;01min\u001b[39;00m employees \u001b[38;5;28;01mif\u001b[39;00m e[\u001b[38;5;124m'\u001b[39m\u001b[38;5;124memployee_id\u001b[39m\u001b[38;5;124m'\u001b[39m] \u001b[38;5;241m==\u001b[39m sale[\u001b[38;5;124m'\u001b[39m\u001b[38;5;124memployee_id\u001b[39m\u001b[38;5;124m'\u001b[39m]), {})\n\u001b[0;32m      8\u001b[0m integrated_row \u001b[38;5;241m=\u001b[39m {\n\u001b[0;32m      9\u001b[0m     \u001b[38;5;241m*\u001b[39m\u001b[38;5;241m*\u001b[39msale,\n\u001b[0;32m     10\u001b[0m     \u001b[38;5;241m*\u001b[39m\u001b[38;5;241m*\u001b[39mproduct,\n\u001b[1;32m   (...)\u001b[0m\n\u001b[0;32m     14\u001b[0m     \u001b[38;5;124m'\u001b[39m\u001b[38;5;124mProfitMargin\u001b[39m\u001b[38;5;124m'\u001b[39m: \u001b[38;5;28mfloat\u001b[39m(product\u001b[38;5;241m.\u001b[39mget(\u001b[38;5;124m'\u001b[39m\u001b[38;5;124mProfitMargin\u001b[39m\u001b[38;5;124m'\u001b[39m, \u001b[38;5;241m0\u001b[39m))\n\u001b[0;32m     15\u001b[0m }\n\u001b[0;32m     16\u001b[0m integrated_data\u001b[38;5;241m.\u001b[39mappend(integrated_row)\n",
      "Cell \u001b[1;32mIn[116], line 6\u001b[0m, in \u001b[0;36m<genexpr>\u001b[1;34m(.0)\u001b[0m\n\u001b[0;32m      4\u001b[0m product \u001b[38;5;241m=\u001b[39m \u001b[38;5;28mnext\u001b[39m((p \u001b[38;5;28;01mfor\u001b[39;00m p \u001b[38;5;129;01min\u001b[39;00m products \u001b[38;5;28;01mif\u001b[39;00m p[\u001b[38;5;124m'\u001b[39m\u001b[38;5;124mproduct_id\u001b[39m\u001b[38;5;124m'\u001b[39m] \u001b[38;5;241m==\u001b[39m sale[\u001b[38;5;124m'\u001b[39m\u001b[38;5;124mproduct_id\u001b[39m\u001b[38;5;124m'\u001b[39m]), {})\n\u001b[0;32m      5\u001b[0m customer \u001b[38;5;241m=\u001b[39m \u001b[38;5;28mnext\u001b[39m((c \u001b[38;5;28;01mfor\u001b[39;00m c \u001b[38;5;129;01min\u001b[39;00m customers \u001b[38;5;28;01mif\u001b[39;00m c[\u001b[38;5;124m'\u001b[39m\u001b[38;5;124mcustomer_id\u001b[39m\u001b[38;5;124m'\u001b[39m] \u001b[38;5;241m==\u001b[39m sale[\u001b[38;5;124m'\u001b[39m\u001b[38;5;124mcustomer_id\u001b[39m\u001b[38;5;124m'\u001b[39m]), {})\n\u001b[1;32m----> 6\u001b[0m employee \u001b[38;5;241m=\u001b[39m \u001b[38;5;28mnext\u001b[39m((e \u001b[38;5;28;01mfor\u001b[39;00m e \u001b[38;5;129;01min\u001b[39;00m employees \u001b[38;5;28;01mif\u001b[39;00m e[\u001b[38;5;124m'\u001b[39m\u001b[38;5;124memployee_id\u001b[39m\u001b[38;5;124m'\u001b[39m] \u001b[38;5;241m==\u001b[39m sale[\u001b[38;5;124m'\u001b[39m\u001b[38;5;124memployee_id\u001b[39m\u001b[38;5;124m'\u001b[39m]), {})\n\u001b[0;32m      8\u001b[0m integrated_row \u001b[38;5;241m=\u001b[39m {\n\u001b[0;32m      9\u001b[0m     \u001b[38;5;241m*\u001b[39m\u001b[38;5;241m*\u001b[39msale,\n\u001b[0;32m     10\u001b[0m     \u001b[38;5;241m*\u001b[39m\u001b[38;5;241m*\u001b[39mproduct,\n\u001b[1;32m   (...)\u001b[0m\n\u001b[0;32m     14\u001b[0m     \u001b[38;5;124m'\u001b[39m\u001b[38;5;124mProfitMargin\u001b[39m\u001b[38;5;124m'\u001b[39m: \u001b[38;5;28mfloat\u001b[39m(product\u001b[38;5;241m.\u001b[39mget(\u001b[38;5;124m'\u001b[39m\u001b[38;5;124mProfitMargin\u001b[39m\u001b[38;5;124m'\u001b[39m, \u001b[38;5;241m0\u001b[39m))\n\u001b[0;32m     15\u001b[0m }\n\u001b[0;32m     16\u001b[0m integrated_data\u001b[38;5;241m.\u001b[39mappend(integrated_row)\n",
      "\u001b[1;31mKeyError\u001b[0m: 'employee_id'"
     ]
    }
   ],
   "source": [
    "def etl_process():\n",
    "    # Extract\n",
    "    sales = extract_data('Sales.csv')\n",
    "    products = extract_data('Product.csv')\n",
    "    customers = extract_data('Customer.csv')\n",
    "    employees = extract_data('Employee.csv')\n",
    "\n",
    "    if not all([sales, products, customers, employees]):\n",
    "        return\n",
    "\n",
    "    # Transform\n",
    "    sales = clean_data(sales)\n",
    "    products = clean_data(products)\n",
    "    customers = clean_data(customers)\n",
    "    employees = clean_data(employees)\n",
    "\n",
    "    integrated_data = integrate_data(sales, products, customers, employees)\n",
    "    transformed_data = create_date_dimension(integrated_data)\n",
    "\n",
    "    # Load\n",
    "    load_data(transformed_data, 'Comprehensive_Sales_Report.csv')\n",
    "\n",
    "    # Analyze\n",
    "    analyze_data(transformed_data)\n",
    "\n",
    "# Execute the ETL process\n",
    "etl_process()"
   ]
  },
  {
   "cell_type": "code",
   "execution_count": null,
   "id": "de9fffad-d6c0-4bf2-8f76-15c094e4f683",
   "metadata": {},
   "outputs": [],
   "source": []
  }
 ],
 "metadata": {
  "kernelspec": {
   "display_name": "Python 3 (ipykernel)",
   "language": "python",
   "name": "python3"
  },
  "language_info": {
   "codemirror_mode": {
    "name": "ipython",
    "version": 3
   },
   "file_extension": ".py",
   "mimetype": "text/x-python",
   "name": "python",
   "nbconvert_exporter": "python",
   "pygments_lexer": "ipython3",
   "version": "3.12.4"
  }
 },
 "nbformat": 4,
 "nbformat_minor": 5
}
